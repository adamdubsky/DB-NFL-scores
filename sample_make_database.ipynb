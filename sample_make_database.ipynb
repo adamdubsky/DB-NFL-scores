{
 "cells": [
  {
   "cell_type": "code",
   "execution_count": 2,
   "metadata": {},
   "outputs": [],
   "source": [
    "#PANDAS AND SQLALCHEMY\n",
    "import pandas as pd\n",
    "from sqlalchemy import create_engine"
   ]
  },
  {
   "cell_type": "code",
   "execution_count": 5,
   "metadata": {},
   "outputs": [
    {
     "data": {
      "text/plain": [
       "44"
      ]
     },
     "execution_count": 5,
     "metadata": {},
     "output_type": "execute_result"
    }
   ],
   "source": [
    "#DATABASE FILE\n",
    "db_path = 'database.db'\n",
    "\n",
    "#SQL ENGINE\n",
    "engine = create_engine(f'sqlite:///{db_path}')\n",
    "\n",
    "#DATAFRAME SKELETONS\n",
    "df = pd.read_csv('data_csv/nfl_teams.csv')\n",
    "\n",
    "df.to_sql('table1', engine, index=False, if_exists='replace')"
   ]
  }
 ],
 "metadata": {
  "kernelspec": {
   "display_name": "base",
   "language": "python",
   "name": "python3"
  },
  "language_info": {
   "codemirror_mode": {
    "name": "ipython",
    "version": 3
   },
   "file_extension": ".py",
   "mimetype": "text/x-python",
   "name": "python",
   "nbconvert_exporter": "python",
   "pygments_lexer": "ipython3",
   "version": "3.11.3"
  }
 },
 "nbformat": 4,
 "nbformat_minor": 2
}
